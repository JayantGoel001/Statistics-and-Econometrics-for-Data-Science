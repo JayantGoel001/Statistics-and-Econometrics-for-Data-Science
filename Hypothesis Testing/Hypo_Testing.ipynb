{
  "nbformat": 4,
  "nbformat_minor": 0,
  "metadata": {
    "colab": {
      "name": "Hypo_Testing.ipynb",
      "provenance": [],
      "toc_visible": true
    },
    "kernelspec": {
      "name": "python3",
      "display_name": "Python 3"
    },
    "language_info": {
      "name": "python"
    }
  },
  "cells": [
    {
      "cell_type": "markdown",
      "metadata": {
        "id": "4uItjVLu5mXc"
      },
      "source": [
        "# T-test\n",
        "\n",
        "A t-test is a type of inferential statistic which is used to determine if there\n",
        "is a significant difference between the means of two groups which may be related in certain features.\n",
        "\n",
        "T-test has 2 types : 1. one sampled t-test 2. two-sampled t-test.\n",
        "One sample t-test : The One Sample t Test determines whether the\n",
        "sample mean is statistically different from a known or hypothesised population mean. The One Sample t Test is a parametric test."
      ]
    },
    {
      "cell_type": "code",
      "metadata": {
        "colab": {
          "base_uri": "https://localhost:8080/"
        },
        "id": "y90dateE5d9E",
        "outputId": "69e603b5-689b-47d9-c61a-cc1d3f3b3279"
      },
      "source": [
        "#-----------------------------------------T-test---------------------------------#\n",
        "\n",
        "\n",
        "from scipy.stats import ttest_1samp\n",
        "import numpy as np\n",
        "\n",
        "#10 ages and you are checking whether avg age is 30 or not.\n",
        "#H0: The average age is 30\n",
        "#H1: The average age is not 30.\n",
        "ages = np.array([32,34,29,29,22,39,38,37,38,36,30,26,22,22])\n",
        "print(ages)\n",
        "#mean of the age \n",
        "ages_mean = np.mean(ages)\n",
        "print(ages_mean)\n",
        "#One Sample t-test\n",
        "tset, pval = ttest_1samp(ages, 30)\n",
        "print('p-values',pval)\n",
        "if pval < 0.05:    # alpha value is 0.05 or 5%\n",
        "   print(\" we are rejecting null hypothesis\")\n",
        "else:\n",
        "  print(\"we are accepting null hypothesis\")\n"
      ],
      "execution_count": 1,
      "outputs": [
        {
          "output_type": "stream",
          "text": [
            "[32 34 29 29 22 39 38 37 38 36 30 26 22 22]\n",
            "31.0\n",
            "p-values 0.5605155888171379\n",
            "we are accepting null hypothesis\n"
          ],
          "name": "stdout"
        }
      ]
    },
    {
      "cell_type": "markdown",
      "metadata": {
        "id": "Lie2acfC5lrP"
      },
      "source": [
        "# Z-Test\n",
        "\n",
        "Z test is used if:\n",
        "Your sample size is greater than 30. Otherwise, use a t test.\n",
        "Data points should be independent from each other. In other words, one data point isn’t related or doesn’t affect another data point.\n",
        "Your data should be normally distributed. However, for large sample sizes (over 30) this doesn’t always matter.\n",
        "Your data should be randomly selected from a population, where each item has an equal chance of being selected.\n",
        "Sample sizes should be equal if at all possible."
      ]
    },
    {
      "cell_type": "code",
      "metadata": {
        "colab": {
          "base_uri": "https://localhost:8080/"
        },
        "id": "uTfU9vxz6Dhc",
        "outputId": "0da843b1-50b7-4a44-9ad0-d37f9e7479cd"
      },
      "source": [
        "#-----------One Sample Z-test-----------#\n",
        "import pandas as pd\n",
        "from scipy import stats\n",
        "from statsmodels.stats import weightstats as stests\n",
        "df = pd.read_csv(\"blood_pressure.csv\")\n",
        "\n",
        "ztest ,pval = stests.ztest(df['bp_before'], x2=None, value=156)\n",
        "print('One-sample z-test')\n",
        "print(float(pval))\n",
        "if pval<0.05:\n",
        "    print(\"reject null hypothesis\")\n",
        "else:\n",
        "    print(\"accept null hypothesis\")\n",
        "\n",
        "#-----------Two Sample Z-test-----------#\n",
        "#Two-sample Z test- Just check two independent data groups and decide whether sample mean of two group is equal or not.\n",
        "#H0 : mean of two group is 0\n",
        "#H1 : mean of two group is not 0\n",
        "#Example : we are checking in blood data after blood and before blood data.\n",
        "\n",
        "ztest ,pval1 = stests.ztest(df['bp_before'], x2=df['bp_after'], value=0,alternative='two-sided')\n",
        "print('Two-sample z-test')\n",
        "print(float(pval1))\n",
        "if pval1<0.05:\n",
        "    print(\"reject null hypothesis\")\n",
        "else:\n",
        "    print(\"accept null hypothesis\")"
      ],
      "execution_count": 2,
      "outputs": [
        {
          "output_type": "stream",
          "text": [
            "One-sample z-test\n",
            "0.6651614730255063\n",
            "accept null hypothesis\n",
            "Two-sample z-test\n",
            "0.002162306611369422\n",
            "reject null hypothesis\n"
          ],
          "name": "stdout"
        },
        {
          "output_type": "stream",
          "text": [
            "/usr/local/lib/python3.7/dist-packages/statsmodels/tools/_testing.py:19: FutureWarning: pandas.util.testing is deprecated. Use the functions in the public API at pandas.testing instead.\n",
            "  import pandas.util.testing as tm\n"
          ],
          "name": "stderr"
        }
      ]
    },
    {
      "cell_type": "markdown",
      "metadata": {
        "id": "O0AqvlnM6aLN"
      },
      "source": [
        "# ANOVA (F-TEST) :- \n",
        "The t-test works well when dealing with two groups, but sometimes we want to compare more than two groups at the same time.\n",
        "For example, if we wanted to test whether voter age differs based on some categorical variable like race, we have to compare the means of each level or group the variable. \n",
        "The analysis of variance or ANOVA is a statistical inference test that lets you compare multiple groups at the same time.\n"
      ]
    },
    {
      "cell_type": "code",
      "metadata": {
        "colab": {
          "base_uri": "https://localhost:8080/"
        },
        "id": "uZRF_2qM6Qv_",
        "outputId": "64439f9f-a116-497d-90e6-d43e0bd552dd"
      },
      "source": [
        "\n",
        "#------------------------One Way F-test(Anova)------------------------# \n",
        "#To tell whether two or more groups are similar or not based on their mean similarity and f-score.\n",
        "#Example : there are 3 different category of plant and their weight and need to check whether all 3 group are similar or not.\n",
        "import pandas as pd\n",
        "from scipy import stats\n",
        "from statsmodels.stats import weightstats as stests\n",
        "print('One-way Anova')\n",
        "df_anova = pd.read_csv('PlantGrowth.csv')\n",
        "df_anova = df_anova[['weight','group']]\n",
        "grps = pd.unique(df_anova.group.values)\n",
        "d_data = {grp:df_anova['weight'][df_anova.group == grp] for grp in grps}\n",
        " \n",
        "F, p = stats.f_oneway(d_data['ctrl'], d_data['trt1'], d_data['trt2'])\n",
        "print(\"p-value for significance is: \", p)\n",
        "if p<0.05:\n",
        "    print(\"reject null hypothesis\")\n",
        "else:\n",
        "    print(\"accept null hypothesis\")\n",
        "\n",
        "#------------------------------------Two Way F-test-----------------------------------# \n",
        "#Two way F-test is extension of 1-way f-test, it is used when we have 2 independent variable and 2+ groups.\n",
        "#2-way F-test does not tell which variable is dominant. If we need to check individual significance then Post-hoc testing need to be performed.\n",
        "\n",
        "#e.g: Grand mean crop yield (the mean crop yield not by any sub-group), as well the mean crop yield by each factor, \n",
        "# as well as by the factors grouped together.\n",
        "import statsmodels.api as sm\n",
        "from statsmodels.formula.api import ols\n",
        "print('Two-way ANova')\n",
        "df_anova2 = pd.read_csv(\"https://raw.githubusercontent.com/Opensourcefordatascience/Data-sets/master/crop_yield.csv\")\n",
        "model = ols('Yield ~ C(Fert)*C(Water)', df_anova2).fit()\n",
        "print(f\"Overall model F({model.df_model: .0f},{model.df_resid: .0f}) = {model.fvalue: .3f}, p = {model.f_pvalue: .4f}\")\n",
        "res = sm.stats.anova_lm(model, typ= 2)\n",
        "print(res)"
      ],
      "execution_count": 3,
      "outputs": [
        {
          "output_type": "stream",
          "text": [
            "One-way Anova\n",
            "p-value for significance is:  0.0159099583256229\n",
            "reject null hypothesis\n",
            "Two-way ANova\n",
            "Overall model F( 3, 16) =  4.112, p =  0.0243\n",
            "                   sum_sq    df         F    PR(>F)\n",
            "C(Fert)            69.192   1.0  5.766000  0.028847\n",
            "C(Water)           63.368   1.0  5.280667  0.035386\n",
            "C(Fert):C(Water)   15.488   1.0  1.290667  0.272656\n",
            "Residual          192.000  16.0       NaN       NaN\n"
          ],
          "name": "stdout"
        }
      ]
    }
  ]
}